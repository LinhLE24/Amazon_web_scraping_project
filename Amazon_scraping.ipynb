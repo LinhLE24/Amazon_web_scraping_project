{
 "cells": [
  {
   "cell_type": "code",
   "execution_count": 675,
   "id": "e8b48d0c-63da-4ede-996d-7f1bc9e82010",
   "metadata": {},
   "outputs": [],
   "source": [
    "from bs4 import BeautifulSoup\n",
    "import requests\n",
    "import csv\n"
   ]
  },
  {
   "cell_type": "code",
   "execution_count": 677,
   "id": "4dedd134-aad8-4b70-8aa6-d26ef2d9d680",
   "metadata": {},
   "outputs": [],
   "source": [
    "URL = \"https://www.amazon.com/s?k=ipad&crid=UYZ35NJHVR8P&sprefix=ipad%2Caps%2C188&ref=nb_sb_noss_1\""
   ]
  },
  {
   "cell_type": "code",
   "execution_count": 679,
   "id": "99094278-82cf-4a3f-8373-5b99f38379f4",
   "metadata": {},
   "outputs": [],
   "source": [
    "# Headers for request\n",
    "HEADERS = {\n",
    "    'User-Agent': 'Mozilla/5.0 (Macintosh; Intel Mac OS X 10_15_7) AppleWebKit/537.36 (KHTML, like Gecko) Chrome/127.0.0.0 Safari/537.36',\n",
    "    'Accept-Language': 'en-US,en;q=0.5'\n",
    "}"
   ]
  },
  {
   "cell_type": "code",
   "execution_count": 681,
   "id": "91638d18-44ea-49a3-8324-74464a1480e5",
   "metadata": {},
   "outputs": [
    {
     "data": {
      "text/plain": [
       "str"
      ]
     },
     "execution_count": 681,
     "metadata": {},
     "output_type": "execute_result"
    }
   ],
   "source": [
    "# HTTP Request\n",
    "response = requests.get(URL, headers=HEADERS)\n",
    "type(response.text)"
   ]
  },
  {
   "cell_type": "code",
   "execution_count": 689,
   "id": "287157de-a5f8-470f-85f1-c5a16962a785",
   "metadata": {},
   "outputs": [],
   "source": [
    "# Soup Object containiang all data (html stucture)\n",
    "soup = BeautifulSoup(response.text, \"html.parser\")"
   ]
  },
  {
   "cell_type": "code",
   "execution_count": 691,
   "id": "9d56f63f-a1af-4815-b9e6-5801c479dc28",
   "metadata": {},
   "outputs": [],
   "source": [
    "#soup"
   ]
  },
  {
   "cell_type": "code",
   "execution_count": 693,
   "id": "09d742dd-b9c1-4d99-99a6-43623879f302",
   "metadata": {},
   "outputs": [],
   "source": [
    "# Fetch links as List of Tag Objects\n",
    "links = soup.find_all(\"a\", attrs={'class':'a-link-normal s-underline-text s-underline-link-text s-link-style a-text-normal'})\n"
   ]
  },
  {
   "cell_type": "code",
   "execution_count": 695,
   "id": "6c9804c5-1f60-417c-97b0-af7c1436e3ba",
   "metadata": {},
   "outputs": [],
   "source": [
    "link = links[1].get('href')"
   ]
  },
  {
   "cell_type": "code",
   "execution_count": 697,
   "id": "35cc6b5e-567d-4825-baab-14e98a26a726",
   "metadata": {},
   "outputs": [],
   "source": [
    "children_pages = \"https://amazon.com\" + link"
   ]
  },
  {
   "cell_type": "code",
   "execution_count": 699,
   "id": "2201da91-f2fe-4762-b3dd-4420326e1596",
   "metadata": {},
   "outputs": [
    {
     "data": {
      "text/plain": [
       "'https://amazon.com/Apple-2022-10-9-inch-iPad-Wi-Fi/dp/B0BJLT98Q7/ref=sr_1_2?crid=UYZ35NJHVR8P&dib=eyJ2IjoiMSJ9.x37hw5scXMlLBGdXY-8Ogz8jtKP3hiT2MdS8aUVAAk_zcnnMkoYJ_SaBnX8jJFgBXMXk9MITgFDXCmf-lj-i27GJ79mivIIYyGZFOlh0zCPJh633acXRkgQ4yWMpk0zeCBvtmOyJTRZz8y1LCVRZ1qneJzh8-yDo8Szcs_bdZR6U9LtfbSe7mmakrobShvoK4fIWtAV8vvLpA7cLX_yMbA3Y9gGxXlYxDHGcSnKfHBs.DF01pt9G8SIXPOtL8pJX9e1r_SX0KJ0z1zJfgL4huLQ&dib_tag=se&keywords=ipad&qid=1724347845&sprefix=ipad%2Caps%2C188&sr=8-2'"
      ]
     },
     "execution_count": 699,
     "metadata": {},
     "output_type": "execute_result"
    }
   ],
   "source": [
    "children_pages"
   ]
  },
  {
   "cell_type": "code",
   "execution_count": 701,
   "id": "e33a0975-6abe-4dbd-b048-5652cee09a31",
   "metadata": {},
   "outputs": [],
   "source": [
    "children_soup = requests.get(children_pages, headers=HEADERS)"
   ]
  },
  {
   "cell_type": "code",
   "execution_count": 702,
   "id": "b916bc7e-e5a0-4617-b416-59ad411d7bd8",
   "metadata": {},
   "outputs": [
    {
     "data": {
      "text/plain": [
       "<Response [200]>"
      ]
     },
     "execution_count": 702,
     "metadata": {},
     "output_type": "execute_result"
    }
   ],
   "source": [
    "children_soup"
   ]
  },
  {
   "cell_type": "code",
   "execution_count": 705,
   "id": "15b54b67-aafa-430a-a5cd-9a17c7a035d8",
   "metadata": {},
   "outputs": [],
   "source": [
    "# Soup Object containiang all data\n",
    "children_soup = BeautifulSoup(children_soup.content, \"html.parser\")"
   ]
  },
  {
   "cell_type": "code",
   "execution_count": 707,
   "id": "87a12cf6-166e-4765-9728-d52e02d77052",
   "metadata": {},
   "outputs": [],
   "source": [
    "product_title = children_soup.find(\"span\", attrs={\"id\":'productTitle'}).text.strip()"
   ]
  },
  {
   "cell_type": "code",
   "execution_count": 709,
   "id": "4b42fb7a-31a3-43ef-b900-0c36341e80e0",
   "metadata": {},
   "outputs": [
    {
     "data": {
      "text/plain": [
       "'Apple iPad (10th Generation): with A14 Bionic chip, 10.9-inch Liquid Retina Display, 64GB, Wi-Fi 6, 12MP front/12MP Back Camera, Touch ID, All-Day Battery Life – Pink'"
      ]
     },
     "execution_count": 709,
     "metadata": {},
     "output_type": "execute_result"
    }
   ],
   "source": [
    "product_title"
   ]
  },
  {
   "cell_type": "code",
   "execution_count": 711,
   "id": "9b6b4b08-6709-41d1-b92f-89e637104baf",
   "metadata": {},
   "outputs": [],
   "source": [
    "# children_soup.find(\"span\", attrs = {\"id\": 'acrPopover', \"class\": 'reviewCountTextLinkedHistogram noUnderline'})"
   ]
  },
  {
   "cell_type": "code",
   "execution_count": 713,
   "id": "76ec0c0c-580e-48e8-8c34-3ff060881dca",
   "metadata": {
    "scrolled": true
   },
   "outputs": [],
   "source": [
    "product_price = children_soup.find(\"span\", attrs = {\"class\":'a-offscreen'}).text.strip()"
   ]
  },
  {
   "cell_type": "code",
   "execution_count": 715,
   "id": "7d6ee0bf-0ec6-46e1-99f9-0e82c15db1eb",
   "metadata": {},
   "outputs": [
    {
     "data": {
      "text/plain": [
       "'$316.79'"
      ]
     },
     "execution_count": 715,
     "metadata": {},
     "output_type": "execute_result"
    }
   ],
   "source": [
    "product_price"
   ]
  },
  {
   "cell_type": "code",
   "execution_count": 717,
   "id": "767d3444-092f-42fc-8e65-87142a6949dd",
   "metadata": {},
   "outputs": [],
   "source": [
    "product_rate = children_soup.find(\"span\", attrs = {\"class\":'a-icon-alt'}).text.strip()"
   ]
  },
  {
   "cell_type": "code",
   "execution_count": 719,
   "id": "fff397a2-00ec-4633-9966-25b19a39fbb0",
   "metadata": {},
   "outputs": [
    {
     "data": {
      "text/plain": [
       "'4.8 out of 5 stars'"
      ]
     },
     "execution_count": 719,
     "metadata": {},
     "output_type": "execute_result"
    }
   ],
   "source": [
    "product_rate"
   ]
  },
  {
   "cell_type": "code",
   "execution_count": 721,
   "id": "035379e3-ce25-4d77-b0c3-0d0bb8c79f66",
   "metadata": {},
   "outputs": [],
   "source": [
    "nb_of_reviewers = children_soup.find(\"span\", attrs = {\"id\":'acrCustomerReviewText'}).text.strip()"
   ]
  },
  {
   "cell_type": "code",
   "execution_count": 723,
   "id": "0e2f6db4-d137-4c55-86e6-1ac2413c4edb",
   "metadata": {},
   "outputs": [
    {
     "data": {
      "text/plain": [
       "'16,616 ratings'"
      ]
     },
     "execution_count": 723,
     "metadata": {},
     "output_type": "execute_result"
    }
   ],
   "source": [
    "nb_of_reviewers"
   ]
  },
  {
   "cell_type": "code",
   "execution_count": 725,
   "id": "6c8bf7b5-1e90-449d-9551-f14e87ca05ef",
   "metadata": {},
   "outputs": [],
   "source": [
    "product_availability = children_soup.find(\"div\", attrs = {\"id\":'availability'}).find(\"span\", attrs = {\"class\":'a-size-medium a-color-success'}).text.strip()"
   ]
  },
  {
   "cell_type": "code",
   "execution_count": 727,
   "id": "91ef206a-1032-42de-a32e-357f9b908dda",
   "metadata": {},
   "outputs": [
    {
     "data": {
      "text/plain": [
       "'In Stock'"
      ]
     },
     "execution_count": 727,
     "metadata": {},
     "output_type": "execute_result"
    }
   ],
   "source": [
    "product_availability"
   ]
  },
  {
   "cell_type": "code",
   "execution_count": 729,
   "id": "ab870a4a-2e04-407f-99c8-f2f359864cf4",
   "metadata": {},
   "outputs": [],
   "source": [
    "nb_of_sales_past_month = children_soup.find(\"span\", attrs = {\"id\": 'social-proofing-faceout-title-tk_bought'}).text"
   ]
  },
  {
   "cell_type": "code",
   "execution_count": 731,
   "id": "95e3a4ce-47f3-4fa1-8068-d822b9aaafad",
   "metadata": {},
   "outputs": [
    {
     "data": {
      "text/plain": [
       "' 10K+ bought in past month '"
      ]
     },
     "execution_count": 731,
     "metadata": {},
     "output_type": "execute_result"
    }
   ],
   "source": [
    "nb_of_sales_past_month"
   ]
  },
  {
   "cell_type": "code",
   "execution_count": null,
   "id": "d67096c4-f0ce-40b5-8649-82282256a50a",
   "metadata": {},
   "outputs": [],
   "source": []
  }
 ],
 "metadata": {
  "kernelspec": {
   "display_name": "Python 3 (ipykernel)",
   "language": "python",
   "name": "python3"
  },
  "language_info": {
   "codemirror_mode": {
    "name": "ipython",
    "version": 3
   },
   "file_extension": ".py",
   "mimetype": "text/x-python",
   "name": "python",
   "nbconvert_exporter": "python",
   "pygments_lexer": "ipython3",
   "version": "3.12.4"
  }
 },
 "nbformat": 4,
 "nbformat_minor": 5
}
